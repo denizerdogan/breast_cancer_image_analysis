{
 "cells": [
  {
   "cell_type": "code",
   "execution_count": 2,
   "metadata": {},
   "outputs": [],
   "source": [
    "import cv2 as cv\n",
    "import numpy as np\n",
    "import matplotlib.pyplot as plt\n",
    "import os"
   ]
  },
  {
   "cell_type": "code",
   "execution_count": 45,
   "metadata": {},
   "outputs": [
    {
     "name": "stdout",
     "output_type": "stream",
     "text": [
      "==================================================\n",
      "9\n",
      "==================================================\n",
      "TCGA-AN-A0XU-DX1_id-5ea40b25ddda5f83989991fd_left-26629_top-21492_bottom-21774_right-26898.png\n"
     ]
    }
   ],
   "source": [
    "# Show the first channel of the image\n",
    "def show_img_first_channel(img):\n",
    "    plt.imshow(img[:,:,0], cmap='gray')\n",
    "    plt.show()\n",
    "\n",
    "# Read the image and convert to RGB\n",
    "img = cv.imread('QC/mask/TCGA-A1-A0SP-DX1_id-5ea4095addda5f8398977ebc_left-7053_top-53967_bottom-54231_right-7311.png')\n",
    "img = cv.cvtColor(img, cv.COLOR_BGR2RGB)\n",
    "\n",
    "\n",
    "max = 0\n",
    "fn = \"\"\n",
    "# Loop over images in the directory\n",
    "for filename in os.listdir('QC/mask'):\n",
    "    img = cv.imread('QC/mask/' + filename)\n",
    "    img = cv.cvtColor(img, cv.COLOR_BGR2RGB)\n",
    "\n",
    "    # Show the first channel of the image\n",
    "    # show_img_first_channel(img)\n",
    "\n",
    "    # Extract the first channel of the image\n",
    "    img_first_channel = img[:,:,0]\n",
    "\n",
    "    #  Find unique pixel value counts in the image and print them as a dictionary\n",
    "    unique, counts = np.unique(img_first_channel, return_counts=True)\n",
    "    # print(dict(zip(unique, counts)))\n",
    "    # print(len(unique))\n",
    "\n",
    "\n",
    "    if len(unique) > max:\n",
    "        max = len(unique)\n",
    "        fn = filename\n",
    "\n",
    "\n",
    "print(\"=\"*50)\n",
    "print(max)\n",
    "print(\"=\"*50)\n",
    "\n",
    "print(fn)\n",
    "\n",
    "\n",
    "\n",
    "\n"
   ]
  }
 ],
 "metadata": {
  "kernelspec": {
   "display_name": "comp411",
   "language": "python",
   "name": "python3"
  },
  "language_info": {
   "codemirror_mode": {
    "name": "ipython",
    "version": 3
   },
   "file_extension": ".py",
   "mimetype": "text/x-python",
   "name": "python",
   "nbconvert_exporter": "python",
   "pygments_lexer": "ipython3",
   "version": "3.7.10"
  },
  "orig_nbformat": 4
 },
 "nbformat": 4,
 "nbformat_minor": 2
}
